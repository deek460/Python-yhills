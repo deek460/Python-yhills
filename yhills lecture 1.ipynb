{
 "cells": [
  {
   "cell_type": "code",
   "execution_count": 1,
   "id": "c9408dfe",
   "metadata": {},
   "outputs": [
    {
     "name": "stdout",
     "output_type": "stream",
     "text": [
      "hello world\n"
     ]
    }
   ],
   "source": [
    "print(\"hello world\")"
   ]
  },
  {
   "cell_type": "code",
   "execution_count": 2,
   "id": "09f75499",
   "metadata": {},
   "outputs": [
    {
     "name": "stdout",
     "output_type": "stream",
     "text": [
      "Saumya\n"
     ]
    }
   ],
   "source": [
    "print(\"Saumya\")"
   ]
  },
  {
   "cell_type": "code",
   "execution_count": 3,
   "id": "d391db73",
   "metadata": {},
   "outputs": [
    {
     "ename": "NameError",
     "evalue": "name 'Print' is not defined",
     "output_type": "error",
     "traceback": [
      "\u001b[1;31m---------------------------------------------------------------------------\u001b[0m",
      "\u001b[1;31mNameError\u001b[0m                                 Traceback (most recent call last)",
      "\u001b[1;32m~\\AppData\\Local\\Temp\\ipykernel_11584\\1112600200.py\u001b[0m in \u001b[0;36m<module>\u001b[1;34m\u001b[0m\n\u001b[1;32m----> 1\u001b[1;33m \u001b[0mPrint\u001b[0m\u001b[1;33m(\u001b[0m\u001b[1;34m\"lAta\"\u001b[0m\u001b[1;33m)\u001b[0m\u001b[1;33m\u001b[0m\u001b[1;33m\u001b[0m\u001b[0m\n\u001b[0m",
      "\u001b[1;31mNameError\u001b[0m: name 'Print' is not defined"
     ]
    }
   ],
   "source": [
    "Print(\"lAta\")"
   ]
  },
  {
   "cell_type": "markdown",
   "id": "d6024f35",
   "metadata": {},
   "source": [
    "# Python is case sensitive"
   ]
  },
  {
   "cell_type": "markdown",
   "id": "f4f9af26",
   "metadata": {},
   "source": [
    "### wheawr;"
   ]
  },
  {
   "cell_type": "markdown",
   "id": "3494aed1",
   "metadata": {},
   "source": [
    "#### a little itty bit of a bite"
   ]
  },
  {
   "cell_type": "markdown",
   "id": "96a8ff50",
   "metadata": {},
   "source": [
    "## candy heart"
   ]
  },
  {
   "cell_type": "markdown",
   "id": "0fb3c8c2",
   "metadata": {},
   "source": [
    "##### i just need a "
   ]
  },
  {
   "cell_type": "code",
   "execution_count": 4,
   "id": "b8cee782",
   "metadata": {},
   "outputs": [
    {
     "ename": "NameError",
     "evalue": "name 'x' is not defined",
     "output_type": "error",
     "traceback": [
      "\u001b[1;31m---------------------------------------------------------------------------\u001b[0m",
      "\u001b[1;31mNameError\u001b[0m                                 Traceback (most recent call last)",
      "\u001b[1;32m~\\AppData\\Local\\Temp\\ipykernel_11584\\1353120783.py\u001b[0m in \u001b[0;36m<module>\u001b[1;34m\u001b[0m\n\u001b[1;32m----> 1\u001b[1;33m \u001b[0mprint\u001b[0m\u001b[1;33m(\u001b[0m\u001b[0mx\u001b[0m\u001b[1;33m)\u001b[0m\u001b[1;33m\u001b[0m\u001b[1;33m\u001b[0m\u001b[0m\n\u001b[0m",
      "\u001b[1;31mNameError\u001b[0m: name 'x' is not defined"
     ]
    }
   ],
   "source": [
    "print(x)"
   ]
  },
  {
   "cell_type": "markdown",
   "id": "5af80b47",
   "metadata": {},
   "source": [
    "### string(text) shld be in inv commas"
   ]
  },
  {
   "cell_type": "markdown",
   "id": "3d4cc6f3",
   "metadata": {},
   "source": [
    "## short cut keys"
   ]
  },
  {
   "cell_type": "markdown",
   "id": "514d8466",
   "metadata": {},
   "source": [
    "##### Run -> shift+enter"
   ]
  },
  {
   "cell_type": "markdown",
   "id": "d992e3c4",
   "metadata": {},
   "source": [
    "##### insert cell abive ->a below_>b\n",
    "##### delete cell -> x"
   ]
  },
  {
   "cell_type": "code",
   "execution_count": 6,
   "id": "8e375549",
   "metadata": {},
   "outputs": [
    {
     "data": {
      "text/plain": [
       "int"
      ]
     },
     "execution_count": 6,
     "metadata": {},
     "output_type": "execute_result"
    }
   ],
   "source": [
    "x = 10\n",
    "type(x)"
   ]
  },
  {
   "cell_type": "code",
   "execution_count": 7,
   "id": "e7e86200",
   "metadata": {},
   "outputs": [
    {
     "data": {
      "text/plain": [
       "float"
      ]
     },
     "execution_count": 7,
     "metadata": {},
     "output_type": "execute_result"
    }
   ],
   "source": [
    "x = 10.5\n",
    "type(x)"
   ]
  },
  {
   "cell_type": "code",
   "execution_count": 8,
   "id": "cfa9b911",
   "metadata": {},
   "outputs": [
    {
     "data": {
      "text/plain": [
       "float"
      ]
     },
     "execution_count": 8,
     "metadata": {},
     "output_type": "execute_result"
    }
   ],
   "source": [
    "course = \"data science\"\n",
    "type(x)"
   ]
  },
  {
   "cell_type": "code",
   "execution_count": 9,
   "id": "dcd5128b",
   "metadata": {},
   "outputs": [
    {
     "data": {
      "text/plain": [
       "str"
      ]
     },
     "execution_count": 9,
     "metadata": {},
     "output_type": "execute_result"
    }
   ],
   "source": [
    "type(course)"
   ]
  },
  {
   "cell_type": "code",
   "execution_count": 11,
   "id": "f85b229b",
   "metadata": {},
   "outputs": [
    {
     "data": {
      "text/plain": [
       "float"
      ]
     },
     "execution_count": 11,
     "metadata": {},
     "output_type": "execute_result"
    }
   ],
   "source": [
    "type(x)"
   ]
  },
  {
   "cell_type": "markdown",
   "id": "f4a71e1c",
   "metadata": {},
   "source": [
    "# Variables"
   ]
  },
  {
   "cell_type": "markdown",
   "id": "2284b495",
   "metadata": {},
   "source": [
    "#### space is not allowed in variable names"
   ]
  },
  {
   "cell_type": "markdown",
   "id": "4da60e67",
   "metadata": {},
   "source": [
    "#### spl charecters not allowed except _"
   ]
  },
  {
   "cell_type": "code",
   "execution_count": 14,
   "id": "91bb5401",
   "metadata": {},
   "outputs": [
    {
     "ename": "NameError",
     "evalue": "name 'course_names' is not defined",
     "output_type": "error",
     "traceback": [
      "\u001b[1;31m---------------------------------------------------------------------------\u001b[0m",
      "\u001b[1;31mNameError\u001b[0m                                 Traceback (most recent call last)",
      "\u001b[1;32m~\\AppData\\Local\\Temp\\ipykernel_11584\\1924327557.py\u001b[0m in \u001b[0;36m<module>\u001b[1;34m\u001b[0m\n\u001b[0;32m      1\u001b[0m \u001b[0mcouese_names\u001b[0m \u001b[1;33m=\u001b[0m \u001b[1;34m\"AB\"\u001b[0m\u001b[1;33m,\u001b[0m \u001b[1;34m\"bc\"\u001b[0m\u001b[1;33m,\u001b[0m \u001b[1;34m\"CD\"\u001b[0m\u001b[1;33m\u001b[0m\u001b[1;33m\u001b[0m\u001b[0m\n\u001b[1;32m----> 2\u001b[1;33m \u001b[0mcourse_names\u001b[0m\u001b[1;33m\u001b[0m\u001b[1;33m\u001b[0m\u001b[0m\n\u001b[0m",
      "\u001b[1;31mNameError\u001b[0m: name 'course_names' is not defined"
     ]
    }
   ],
   "source": [
    "couese_names = \"AB\", \"bc\", \"CD\"\n",
    "course_names"
   ]
  },
  {
   "cell_type": "code",
   "execution_count": 15,
   "id": "4bb27038",
   "metadata": {},
   "outputs": [
    {
     "ename": "NameError",
     "evalue": "name 'course_names' is not defined",
     "output_type": "error",
     "traceback": [
      "\u001b[1;31m---------------------------------------------------------------------------\u001b[0m",
      "\u001b[1;31mNameError\u001b[0m                                 Traceback (most recent call last)",
      "\u001b[1;32m~\\AppData\\Local\\Temp\\ipykernel_11584\\1924327557.py\u001b[0m in \u001b[0;36m<module>\u001b[1;34m\u001b[0m\n\u001b[0;32m      1\u001b[0m \u001b[0mcouese_names\u001b[0m \u001b[1;33m=\u001b[0m \u001b[1;34m\"AB\"\u001b[0m\u001b[1;33m,\u001b[0m \u001b[1;34m\"bc\"\u001b[0m\u001b[1;33m,\u001b[0m \u001b[1;34m\"CD\"\u001b[0m\u001b[1;33m\u001b[0m\u001b[1;33m\u001b[0m\u001b[0m\n\u001b[1;32m----> 2\u001b[1;33m \u001b[0mcourse_names\u001b[0m\u001b[1;33m\u001b[0m\u001b[1;33m\u001b[0m\u001b[0m\n\u001b[0m",
      "\u001b[1;31mNameError\u001b[0m: name 'course_names' is not defined"
     ]
    }
   ],
   "source": [
    "couese_names = \"AB\", \"bc\", \"CD\"\n",
    "course_names"
   ]
  },
  {
   "cell_type": "markdown",
   "id": "a6a6745a",
   "metadata": {},
   "source": [
    "### variable name should s]not start with number\n",
    "### It shld start with A-Z or a-z or _"
   ]
  },
  {
   "cell_type": "code",
   "execution_count": 16,
   "id": "3bc905c3",
   "metadata": {},
   "outputs": [
    {
     "data": {
      "text/plain": [
       "('w', 'x', 'y')"
      ]
     },
     "execution_count": 16,
     "metadata": {},
     "output_type": "execute_result"
    }
   ],
   "source": [
    "courses= \"w\", \"x\", \"y\"\n",
    "courses"
   ]
  },
  {
   "cell_type": "code",
   "execution_count": 17,
   "id": "3d01f2e3",
   "metadata": {},
   "outputs": [
    {
     "data": {
      "text/plain": [
       "('AB', 'bc', 'CD')"
      ]
     },
     "execution_count": 17,
     "metadata": {},
     "output_type": "execute_result"
    }
   ],
   "source": [
    "couese_names= \"AB\", \"bc\", \"CD\"\n",
    "couese_names"
   ]
  },
  {
   "cell_type": "code",
   "execution_count": null,
   "id": "4b489cdc",
   "metadata": {},
   "outputs": [],
   "source": []
  }
 ],
 "metadata": {
  "kernelspec": {
   "display_name": "Python 3 (ipykernel)",
   "language": "python",
   "name": "python3"
  },
  "language_info": {
   "codemirror_mode": {
    "name": "ipython",
    "version": 3
   },
   "file_extension": ".py",
   "mimetype": "text/x-python",
   "name": "python",
   "nbconvert_exporter": "python",
   "pygments_lexer": "ipython3",
   "version": "3.9.13"
  }
 },
 "nbformat": 4,
 "nbformat_minor": 5
}
